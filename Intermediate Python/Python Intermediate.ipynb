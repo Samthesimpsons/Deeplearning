{
 "cells": [
  {
   "cell_type": "markdown",
   "metadata": {},
   "source": [
    "# Python File Handling: Create, Open, Append, Read, Write\n",
    "\n",
    "## How to Create a Text File\n",
    "\n",
    "To open a file, you need to use the built-in open function. The open function returns a file object that contains methods and attributes to perform various operations on the file.\n",
    "\n",
    "file_object  = open(\"filename\", \"mode\") "
   ]
  },
  {
   "cell_type": "code",
   "execution_count": 33,
   "metadata": {},
   "outputs": [],
   "source": [
    "file = open(\"text.txt\",\"w+\")"
   ]
  },
  {
   "cell_type": "markdown",
   "metadata": {},
   "source": [
    "1st argument: The filename\n",
    "\n",
    "2nd argument: The operation/permissions to the file\n",
    "\n",
    "w: Creates a file\n",
    "\n",
    "w+: Creates a readable file"
   ]
  },
  {
   "cell_type": "code",
   "execution_count": 34,
   "metadata": {},
   "outputs": [],
   "source": [
    "for i in range(10):\n",
    "    file.write('This is line %d\\n' %(i+1))\n",
    "    # This is line display integer, next line\n",
    "\n",
    "file.close() "
   ]
  },
  {
   "cell_type": "markdown",
   "metadata": {},
   "source": [
    "Using the write function to enter data into the file. Be very careful to notice that the write method takes one parameter, a string. When invoked, the characters of the string will be added to the end of the file. This means that it is the programmers job to include the newline characters as part of the string if desired."
   ]
  },
  {
   "cell_type": "markdown",
   "metadata": {},
   "source": [
    "## Assess Filepath"
   ]
  },
  {
   "cell_type": "markdown",
   "metadata": {},
   "source": [
    "If a file is not in the same folder as your python program, you need to tell the computer how to reach it. \n",
    "\n",
    "A relative file path starts from the folder that contains your python program and follows a computer’s file hierarchy. A file hierarchy contains folders which contains files and other sub-folders. Specifying a sub-folder is easy – you simply specify the sub-folder’s name. \n",
    "\n",
    "To specify a parent folder you use the special .. notation because every file and folder has one unique parent. You can use the .. notation multiple times in a file path to move multiple levels up a file hierarchy. \n",
    "\n",
    "Here is an example file hierarchy that contains multiple folders, files, and sub-folders. Folders in the diagram are displayed in bold type."
   ]
  },
  {
   "cell_type": "markdown",
   "metadata": {},
   "source": [
    "https://runestone.academy/runestone/books/published/thinkcspy/_images/ExampleFileHierarchy.png"
   ]
  },
  {
   "cell_type": "markdown",
   "metadata": {},
   "source": [
    "Using the example file hierarchy above, the program, myPythonProgram.py could access each of the data files using the following relative file paths:\n",
    "\n",
    "data1.txt\n",
    "Since they have the same paths\n",
    "\n",
    "../myData/data2.txt\n",
    "\n",
    "../myData/data3.txt\n",
    "\n",
    "../../otherFiles/extraData/data4.txt"
   ]
  },
  {
   "cell_type": "markdown",
   "metadata": {},
   "source": [
    "## Append Data to File"
   ]
  },
  {
   "cell_type": "markdown",
   "metadata": {},
   "source": [
    "Once again if you could see a plus sign in the code, it indicates that it will create a new file if it does not exist with read & write permissions\n",
    "\n",
    "a: Append to existing file\n",
    "\n",
    "a+: Appends to a new file\n",
    "\n",
    "\n",
    "\n"
   ]
  },
  {
   "cell_type": "code",
   "execution_count": 35,
   "metadata": {},
   "outputs": [],
   "source": [
    "file2 = open(\"text.txt\",\"a\")\n",
    "\n",
    "for i in range(11,21):\n",
    "    file2.write('This appended line %d\\n' %(i))\n",
    "\n",
    "file2.close() "
   ]
  },
  {
   "cell_type": "markdown",
   "metadata": {},
   "source": [
    "##  Read a File\n",
    "\n",
    "You can read a file in Python by calling .txt file in a \"read mode\"(r).\n",
    "\n",
    "Use the read function to read the ENTIRE contents of a file as it is\n",
    "read(n) to reads and return a string of n characters, or the entire file as a single string if n is not provided.\n",
    "Unless you do a for loop, which puts each line into a string\n",
    "\n",
    "Use readline to read one line from the file as a string which will contain the \\n at the end too. Returns the empty string if it reaches the end of the file\n",
    "readline(n) returns the next line of the file with all text up to and including the newline character. If n is provided as a parameter than only n characters will be returned if the line is longer than n.\n",
    "\n",
    "\n",
    "Use the readlines function to read the content of the entire file one by one as a list of strings. \n",
    "readlines(n) returns a list of strings, each representing a single line of the file. If n is not provided then all lines of the file are returned. If n is provided then n characters are read but n is rounded up so that an entire line is returned.\n",
    "\n"
   ]
  },
  {
   "cell_type": "code",
   "execution_count": 47,
   "metadata": {},
   "outputs": [
    {
     "name": "stdout",
     "output_type": "stream",
     "text": [
      "This is line 1\n",
      "This is line 2\n",
      "This is line 3\n",
      "This is line 4\n",
      "This is line 5\n",
      "This is line 6\n",
      "This is line 7\n",
      "This is line 8\n",
      "This is line 9\n",
      "This is line 10\n",
      "This appended line 11\n",
      "This appended line 12\n",
      "This appended line 13\n",
      "This appended line 14\n",
      "This appended line 15\n",
      "This appended line 16\n",
      "This appended line 17\n",
      "This appended line 18\n",
      "This appended line 19\n",
      "This appended line 20\n",
      "\n"
     ]
    }
   ],
   "source": [
    "file3 =open(\"text.txt\", \"r\")\n",
    "if file3.mode == 'r': #to check if it is indeed open, then the bottom code will run\n",
    "    contents = file3.read()\n",
    "    print(contents)\n",
    "    "
   ]
  },
  {
   "cell_type": "code",
   "execution_count": 48,
   "metadata": {},
   "outputs": [
    {
     "name": "stdout",
     "output_type": "stream",
     "text": [
      "This is\n"
     ]
    }
   ],
   "source": [
    "file3 =open(\"text.txt\", \"r\")\n",
    "if file3.mode == 'r': #to check if it is indeed open, then the bottom code will run\n",
    "    content = file3.read(7)\n",
    "    print(content)"
   ]
  },
  {
   "cell_type": "code",
   "execution_count": 50,
   "metadata": {},
   "outputs": [
    {
     "name": "stdout",
     "output_type": "stream",
     "text": [
      "['This is line 1\\n', 'This is line 2\\n', 'This is line 3\\n', 'This is line 4\\n', 'This is line 5\\n', 'This is line 6\\n', 'This is line 7\\n', 'This is line 8\\n', 'This is line 9\\n', 'This is line 10\\n', 'This appended line 11\\n', 'This appended line 12\\n', 'This appended line 13\\n', 'This appended line 14\\n', 'This appended line 15\\n', 'This appended line 16\\n', 'This appended line 17\\n', 'This appended line 18\\n', 'This appended line 19\\n', 'This appended line 20\\n']\n",
      "This is line 1\n",
      "\n",
      "This is line 2\n",
      "\n",
      "This is line 3\n",
      "\n",
      "This is line 4\n",
      "\n",
      "This is line 5\n",
      "\n",
      "This is line 6\n",
      "\n",
      "This is line 7\n",
      "\n",
      "This is line 8\n",
      "\n",
      "This is line 9\n",
      "\n",
      "This is line 10\n",
      "\n",
      "This appended line 11\n",
      "\n",
      "This appended line 12\n",
      "\n",
      "This appended line 13\n",
      "\n",
      "This appended line 14\n",
      "\n",
      "This appended line 15\n",
      "\n",
      "This appended line 16\n",
      "\n",
      "This appended line 17\n",
      "\n",
      "This appended line 18\n",
      "\n",
      "This appended line 19\n",
      "\n",
      "This appended line 20\n",
      "\n"
     ]
    }
   ],
   "source": [
    "file3 =open(\"text.txt\", \"r\")\n",
    "\n",
    "contents = file3.readlines() #puts the characters of each line to a string including \\n\n",
    "print(contents)\n",
    "    \n",
    "for lines in contents: #iterate over list \\n displayed out too\n",
    "    print(lines)"
   ]
  },
  {
   "cell_type": "code",
   "execution_count": 2,
   "metadata": {},
   "outputs": [
    {
     "name": "stdout",
     "output_type": "stream",
     "text": [
      "['This is line 1', '']\n",
      "['This is line 2', '']\n",
      "['This is line 3', '']\n",
      "['This is line 4', '']\n",
      "['This is line 5', '']\n",
      "['This is line 6', '']\n",
      "['This is line 7', '']\n",
      "['This is line 8', '']\n",
      "['This is line 9', '']\n",
      "['This is line 10', '']\n",
      "['This appended line 11', '']\n",
      "['This appended line 12', '']\n",
      "['This appended line 13', '']\n",
      "['This appended line 14', '']\n",
      "['This appended line 15', '']\n",
      "['This appended line 16', '']\n",
      "['This appended line 17', '']\n",
      "['This appended line 18', '']\n",
      "['This appended line 19', '']\n",
      "['This appended line 20', '']\n"
     ]
    }
   ],
   "source": [
    "file4 =open(\"text.txt\", \"r\")\n",
    "for lines in file4:\n",
    "    values = lines.split(' ')\n",
    "    values = lines.split('\\n')\n",
    "    #printe([values[0]])\n",
    "    print (values)\n",
    "file4.close()"
   ]
  },
  {
   "cell_type": "markdown",
   "metadata": {},
   "source": [
    "## With Statements\n",
    "\n",
    "Forgetting to close a file does not necessarily cause a runtime error in the kinds of programs you typically write in an introductory CS course.\n",
    "\n",
    "The context manager automates the process of doing common operations at the start of some task, as well as automating certain operations at the end of some task. In the context of reading and writing a file, the normal operation is to open the file and assign it to a variable. At the end of working with a file the common operation is to make sure that file is closed.\n",
    "\n",
    "The Python with statement makes using context managers easy. The general form of a with statement is:\n",
    "\n",
    "When the program exits the with block, the context manager handles the common stuff that normally happens. For example closing a file. A simple example will clear up all of this abstract discussion of contexts."
   ]
  },
  {
   "cell_type": "code",
   "execution_count": null,
   "metadata": {},
   "outputs": [],
   "source": [
    "with <create some object that understands context> as <some name>:\n",
    "    do some stuff with the object\n",
    "    ..."
   ]
  },
  {
   "cell_type": "code",
   "execution_count": 70,
   "metadata": {},
   "outputs": [
    {
     "name": "stdout",
     "output_type": "stream",
     "text": [
      "This is line 1\n",
      "\n",
      "This is line 2\n",
      "\n",
      "This is line 3\n",
      "\n",
      "This is line 4\n",
      "\n",
      "This is line 5\n",
      "\n",
      "This is line 6\n",
      "\n",
      "This is line 7\n",
      "\n",
      "This is line 8\n",
      "\n",
      "This is line 9\n",
      "\n",
      "This is line 10\n",
      "\n",
      "This appended line 11\n",
      "\n",
      "This appended line 12\n",
      "\n",
      "This appended line 13\n",
      "\n",
      "This appended line 14\n",
      "\n",
      "This appended line 15\n",
      "\n",
      "This appended line 16\n",
      "\n",
      "This appended line 17\n",
      "\n",
      "This appended line 18\n",
      "\n",
      "This appended line 19\n",
      "\n",
      "This appended line 20\n",
      "\n"
     ]
    }
   ],
   "source": [
    "with open('text.txt','r') as file:\n",
    "    for line in file:\n",
    "        print(line)"
   ]
  },
  {
   "cell_type": "markdown",
   "metadata": {},
   "source": [
    "# ZIP function"
   ]
  },
  {
   "cell_type": "code",
   "execution_count": 108,
   "metadata": {
    "scrolled": true
   },
   "outputs": [
    {
     "name": "stdout",
     "output_type": "stream",
     "text": [
      "1 6\n",
      "2 7\n",
      "3 8\n",
      "4 8\n",
      "5 9\n",
      "5\n"
     ]
    }
   ],
   "source": [
    "a = [1,2,3,4,5]\n",
    "b = [6,7,8,8,9]\n",
    "\n",
    "for x,y in zip(a,b):\n",
    "    print(x,y)\n",
    "\n",
    "print(x)"
   ]
  },
  {
   "cell_type": "markdown",
   "metadata": {},
   "source": [
    "Zip is an interable object that returns a tuple"
   ]
  },
  {
   "cell_type": "code",
   "execution_count": 112,
   "metadata": {},
   "outputs": [
    {
     "name": "stdout",
     "output_type": "stream",
     "text": [
      "1 6\n",
      "2 7\n",
      "3 8\n",
      "4 8\n",
      "5 9\n",
      "5\n"
     ]
    }
   ],
   "source": [
    "a = [1,2,3,4,5]\n",
    "b = [6,7,8,8,9]\n",
    "\n",
    "[print (x,y) for x,y in zip(a,b)]\n",
    "print(x)"
   ]
  },
  {
   "cell_type": "code",
   "execution_count": 106,
   "metadata": {},
   "outputs": [
    {
     "name": "stdout",
     "output_type": "stream",
     "text": [
      "<zip object at 0x00000142C8BA5808>\n",
      "(1, 6)\n",
      "(2, 7)\n",
      "(3, 8)\n",
      "(4, 8)\n",
      "(5, 9)\n",
      "<zip object at 0x00000142C8BA57C8>\n"
     ]
    }
   ],
   "source": [
    "print (zip(a,b))\n",
    "for i in zip(a,b):\n",
    "    print(i)\n",
    "    "
   ]
  },
  {
   "cell_type": "markdown",
   "metadata": {},
   "source": [
    "Zip object can be turned into list"
   ]
  },
  {
   "cell_type": "code",
   "execution_count": 98,
   "metadata": {},
   "outputs": [
    {
     "name": "stdout",
     "output_type": "stream",
     "text": [
      "[(1, 6), (2, 7), (3, 8), (4, 8), (5, 9)]\n"
     ]
    }
   ],
   "source": [
    "print(list(zip(a,b)))"
   ]
  },
  {
   "cell_type": "markdown",
   "metadata": {},
   "source": [
    "Zip object can be turned into dict only for 2 parameters"
   ]
  },
  {
   "cell_type": "code",
   "execution_count": 99,
   "metadata": {},
   "outputs": [
    {
     "name": "stdout",
     "output_type": "stream",
     "text": [
      "{1: 6, 2: 7, 3: 8, 4: 8, 5: 9}\n"
     ]
    }
   ],
   "source": [
    "print(dict(zip(a,b)))"
   ]
  },
  {
   "cell_type": "markdown",
   "metadata": {},
   "source": [
    "# EXCEPTION \n",
    "\n"
   ]
  },
  {
   "cell_type": "code",
   "execution_count": 128,
   "metadata": {},
   "outputs": [
    {
     "name": "stdout",
     "output_type": "stream",
     "text": [
      "The error is a Name error\n"
     ]
    }
   ],
   "source": [
    "try:\n",
    "    f = open('text.txt') #file exists for this case\n",
    "    print(O) \n",
    "except FileNotFoundError:\n",
    "    print('Sorry. This file does not exist')\n",
    "except NameError:\n",
    "    print('The error is a Name error')\n",
    "except Exception:\n",
    "    print('Sorry. This file does not exist')    "
   ]
  },
  {
   "cell_type": "markdown",
   "metadata": {},
   "source": [
    "Exception is general. Or we can specify the type of error to exception. Then again, always write the specific once first. Then prints out the custom error"
   ]
  },
  {
   "cell_type": "code",
   "execution_count": 131,
   "metadata": {},
   "outputs": [
    {
     "name": "stdout",
     "output_type": "stream",
     "text": [
      "[Errno 2] No such file or directory: 'text3.txt'\n"
     ]
    }
   ],
   "source": [
    "try:\n",
    "    f = open('text3.txt')\n",
    "except FileNotFoundError as e:\n",
    "    print(e)\n"
   ]
  },
  {
   "cell_type": "code",
   "execution_count": 132,
   "metadata": {},
   "outputs": [
    {
     "name": "stdout",
     "output_type": "stream",
     "text": [
      "This is line 1\n",
      "This is line 2\n",
      "This is line 3\n",
      "This is line 4\n",
      "This is line 5\n",
      "This is line 6\n",
      "This is line 7\n",
      "This is line 8\n",
      "This is line 9\n",
      "This is line 10\n",
      "This appended line 11\n",
      "This appended line 12\n",
      "This appended line 13\n",
      "This appended line 14\n",
      "This appended line 15\n",
      "This appended line 16\n",
      "This appended line 17\n",
      "This appended line 18\n",
      "This appended line 19\n",
      "This appended line 20\n",
      "\n"
     ]
    }
   ],
   "source": [
    "try:\n",
    "    f = open('text.txt')\n",
    "except FileNotFoundError as e:\n",
    "    print(e)\n",
    "else:\n",
    "    print(f.read())\n",
    "    f.close()"
   ]
  },
  {
   "cell_type": "markdown",
   "metadata": {},
   "source": [
    "So python will run the code under the try block, if there is an error in any of the exception block, it will print the error.\n",
    "Else it will run the code under the else block"
   ]
  },
  {
   "cell_type": "code",
   "execution_count": 134,
   "metadata": {},
   "outputs": [
    {
     "name": "stdout",
     "output_type": "stream",
     "text": [
      "[Errno 2] No such file or directory: 'text3.txt'\n",
      "this code line still runs\n"
     ]
    }
   ],
   "source": [
    "try:\n",
    "    f = open('text3.txt')\n",
    "except FileNotFoundError as e:\n",
    "    print(e)\n",
    "finally:\n",
    "    print('this code line still runs')"
   ]
  },
  {
   "cell_type": "code",
   "execution_count": 135,
   "metadata": {},
   "outputs": [
    {
     "name": "stdout",
     "output_type": "stream",
     "text": [
      "[Errno 2] No such file or directory: 'text3.txt'\n"
     ]
    }
   ],
   "source": [
    "try:\n",
    "    f = open('text3.txt')\n",
    "except FileNotFoundError as e:\n",
    "    print(e)\n",
    "else:\n",
    "    print('this code line still runs')"
   ]
  },
  {
   "cell_type": "markdown",
   "metadata": {},
   "source": [
    "Finally ensures that the code under the finally statement still runs"
   ]
  },
  {
   "cell_type": "code",
   "execution_count": 142,
   "metadata": {},
   "outputs": [
    {
     "name": "stdout",
     "output_type": "stream",
     "text": [
      "ERROR!\n"
     ]
    }
   ],
   "source": [
    "try:\n",
    "    f = open('text.txt')\n",
    "    if f.name == 'text.txt':\n",
    "        raise Exception\n",
    "except Exception as e:\n",
    "    print('ERROR!')\n",
    "else:\n",
    "    print('this code line still runs')"
   ]
  },
  {
   "cell_type": "markdown",
   "metadata": {},
   "source": [
    "Manually raising an error even if there isnt one"
   ]
  },
  {
   "cell_type": "markdown",
   "metadata": {},
   "source": [
    "# Enumerate"
   ]
  },
  {
   "cell_type": "code",
   "execution_count": 145,
   "metadata": {},
   "outputs": [
    {
     "name": "stdout",
     "output_type": "stream",
     "text": [
      "0 left\n",
      "1 right\n",
      "2 up\n",
      "3 down\n"
     ]
    }
   ],
   "source": [
    "example = ['left','right','up','down']\n",
    "\n",
    "for i in range (len(example)):\n",
    "    print(i,example[i])"
   ]
  },
  {
   "cell_type": "code",
   "execution_count": 4,
   "metadata": {},
   "outputs": [
    {
     "name": "stdout",
     "output_type": "stream",
     "text": [
      "0 left\n",
      "1 right\n",
      "2 up\n",
      "3 down\n"
     ]
    }
   ],
   "source": [
    "example = ['left','right','up','down']\n",
    "\n",
    "for j,i in enumerate(example):\n",
    "    print(j,i)"
   ]
  },
  {
   "cell_type": "code",
   "execution_count": 149,
   "metadata": {},
   "outputs": [
    {
     "name": "stdout",
     "output_type": "stream",
     "text": [
      "{0: 'left', 1: 'right', 2: 'up', 3: 'down'}\n"
     ]
    }
   ],
   "source": [
    "new_dict = dict(enumerate(example))\n",
    "print(new_dict)"
   ]
  },
  {
   "cell_type": "code",
   "execution_count": 150,
   "metadata": {},
   "outputs": [
    {
     "name": "stdout",
     "output_type": "stream",
     "text": [
      "0 0\n",
      "1 1\n",
      "2 2\n",
      "3 3\n"
     ]
    },
    {
     "data": {
      "text/plain": [
       "[None, None, None, None]"
      ]
     },
     "execution_count": 150,
     "metadata": {},
     "output_type": "execute_result"
    }
   ],
   "source": [
    "[print(i,j) for i,j in enumerate(new_dict)]"
   ]
  },
  {
   "cell_type": "markdown",
   "metadata": {},
   "source": [
    "## Iter\n",
    "Return value from iter()\n",
    "The iter() function returns an iterator object for the given object.\n",
    "If the user-defined object doesn't implement __iter__(), and __next__() or __getitem()__, the TypeError exception is raised.\n",
    "If the sentinel parameter is also provided, iter() returns an iterator until the sentinel character isn't foun"
   ]
  },
  {
   "cell_type": "code",
   "execution_count": 1,
   "metadata": {},
   "outputs": [
    {
     "name": "stdout",
     "output_type": "stream",
     "text": [
      "a\n",
      "e\n",
      "i\n",
      "o\n",
      "u\n"
     ]
    }
   ],
   "source": [
    "# list of vowels\n",
    "vowels = ['a', 'e', 'i', 'o', 'u']\n",
    "vowels_iter = iter(vowels)\n",
    "\n",
    "print(next(vowels_iter))    # 'a'\n",
    "print(next(vowels_iter))    # 'e'\n",
    "print(next(vowels_iter))    # 'i'\n",
    "print(next(vowels_iter))    # 'o'\n",
    "print(next(vowels_iter))    # 'u'"
   ]
  },
  {
   "cell_type": "markdown",
   "metadata": {},
   "source": [
    "# Understanding dimensions, axis in mumpy (same in tensor)"
   ]
  },
  {
   "cell_type": "code",
   "execution_count": 15,
   "metadata": {},
   "outputs": [
    {
     "name": "stdout",
     "output_type": "stream",
     "text": [
      "1\n",
      "(4,)\n"
     ]
    },
    {
     "data": {
      "text/plain": [
       "2.5"
      ]
     },
     "execution_count": 15,
     "metadata": {},
     "output_type": "execute_result"
    }
   ],
   "source": [
    "import numpy as np\n",
    "#1D\n",
    "A = np.array([1,2,3,4])\n",
    "print(A.ndim) \n",
    "print(A.shape)\n",
    "#row by col\n",
    "\n",
    "np.mean(A,axis=0) \n",
    "#axis = 0, row wise"
   ]
  },
  {
   "cell_type": "code",
   "execution_count": 18,
   "metadata": {},
   "outputs": [
    {
     "name": "stdout",
     "output_type": "stream",
     "text": [
      "2\n",
      "(2, 4)\n",
      "[2. 3. 4. 5.]\n",
      "[2.5 4.5]\n"
     ]
    }
   ],
   "source": [
    "#2D\n",
    "A = np.array([[1,2,3,4],\n",
    "              [3,4,5,6]])\n",
    "print(A.ndim)\n",
    "print(A.shape)\n",
    "#row by col\n",
    "\n",
    "print(np.mean(A,axis=0))\n",
    "print(np.mean(A,axis=1))\n",
    "#axis = 0, col wise\n",
    "#axis = 1, row wise"
   ]
  },
  {
   "cell_type": "code",
   "execution_count": 20,
   "metadata": {},
   "outputs": [
    {
     "name": "stdout",
     "output_type": "stream",
     "text": [
      "3\n",
      "(2, 2, 3)\n",
      "[[2.5 3.5 4.5]\n",
      " [4.  5.  6. ]]\n",
      "[[1.5 2.5 3.5]\n",
      " [5.  6.  7. ]]\n",
      "[[2. 3.]\n",
      " [5. 7.]]\n"
     ]
    }
   ],
   "source": [
    "#3D\n",
    "A = np.array([[[1,2,3],[2,3,4]],\n",
    "             [[4,5,6],[6,7,8]]])\n",
    "print(A.ndim)\n",
    "print(A.shape)\n",
    "#depth by row by col\n",
    "\n",
    "print(np.mean(A,axis=0))\n",
    "print(np.mean(A,axis=1))\n",
    "print(np.mean(A,axis=2))\n",
    "#axis = 0, depth wise\n",
    "#axis = 1, row wise\n",
    "#axis = 2, col wise"
   ]
  },
  {
   "cell_type": "code",
   "execution_count": null,
   "metadata": {},
   "outputs": [],
   "source": []
  }
 ],
 "metadata": {
  "kernelspec": {
   "display_name": "Python 3",
   "language": "python",
   "name": "python3"
  },
  "language_info": {
   "codemirror_mode": {
    "name": "ipython",
    "version": 3
   },
   "file_extension": ".py",
   "mimetype": "text/x-python",
   "name": "python",
   "nbconvert_exporter": "python",
   "pygments_lexer": "ipython3",
   "version": "3.7.7"
  }
 },
 "nbformat": 4,
 "nbformat_minor": 4
}
